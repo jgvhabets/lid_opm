{
 "cells": [
  {
   "cell_type": "code",
   "execution_count": null,
   "metadata": {},
   "outputs": [],
   "source": [
    "import os\n",
    "import sys\n",
    "import mne\n",
    "import numpy as np\n",
    "import matplotlib.pyplot as plt"
   ]
  },
  {
   "cell_type": "code",
   "execution_count": null,
   "metadata": {},
   "outputs": [],
   "source": [
    "# check some package versions for documentation and reproducability\n",
    "print('Python sys', sys.version)\n",
    "# print('pandas', pd.__version__)\n",
    "print('numpy', np.__version__)\n",
    "# print('mne_bids', mne_bids.__version__)\n",
    "print('mne', mne.__version__)"
   ]
  },
  {
   "cell_type": "code",
   "execution_count": null,
   "metadata": {},
   "outputs": [],
   "source": [
    "data_path = os.path.dirname(os.path.dirname(os.getcwd()))\n",
    "data_path = os.path.join(data_path, 'data', 'source_data')\n",
    "sub_data = os.path.join(data_path, 'sub01')\n",
    "files = [f for f in os.listdir(sub_data) if f.endswith('.con')]\n",
    "file = os.path.join(sub_data, files[0])\n",
    "markers = [f for f in os.listdir(sub_data) if f.endswith('.mrk')]\n",
    "marker = os.path.join(sub_data, mrks[0])\n",
    "\n",
    "print(f'first file: {file}\\nfirst marker: {marker}')"
   ]
  },
  {
   "cell_type": "markdown",
   "metadata": {},
   "source": [
    "## Read Data File"
   ]
  },
  {
   "cell_type": "code",
   "execution_count": null,
   "metadata": {},
   "outputs": [],
   "source": [
    "# # ascii\n",
    "# # with open(os.path.join(sub_data, files[0]), 'rt', encoding='utf-8', errors='ignore') as f:  # read text not working\n",
    "# with open(file, 'rb',) as f:  # rb -> eradbinary\n",
    "#     # raw = f.read()\n",
    "#     raw = np.fromfile(f, 'uint16')\n",
    "\n",
    "# print(raw.shape)"
   ]
  },
  {
   "cell_type": "code",
   "execution_count": null,
   "metadata": {},
   "outputs": [],
   "source": [
    "raw = mne.io.read_raw_kit(file,)\n",
    "dat, times = raw[:]\n",
    "chnames = raw.ch_names"
   ]
  },
  {
   "cell_type": "markdown",
   "metadata": {},
   "source": [
    "Check loaded content"
   ]
  },
  {
   "cell_type": "code",
   "execution_count": null,
   "metadata": {},
   "outputs": [],
   "source": [
    "print(raw.info)\n",
    "\n",
    "print(f'Channel names within .con data, (n={len(raw.ch_names)}): {raw.ch_names}')\n",
    "print(f'Timestamps within .con data (n={len(raw.times)}): {raw.times}')\n",
    "print(f'Sampling freq within .con data: {raw.info['sfreq']}')\n",
    "\n",
    "print(f'\\ndata shape: {dat.shape}, times shape: {times.shape}')\n",
    "\n",
    "# dat.info['chs][i]  # contains dict with info on channel"
   ]
  },
  {
   "cell_type": "code",
   "execution_count": null,
   "metadata": {},
   "outputs": [],
   "source": [
    "# check loaded data\n",
    "raw.info"
   ]
  },
  {
   "cell_type": "code",
   "execution_count": null,
   "metadata": {},
   "outputs": [],
   "source": [
    "from itertools import compress, product"
   ]
  },
  {
   "cell_type": "markdown",
   "metadata": {},
   "source": [
    "Pick MEG channels and data"
   ]
  },
  {
   "cell_type": "code",
   "execution_count": null,
   "metadata": {},
   "outputs": [],
   "source": [
    "# meg_ch_pick = mne.pick_types(raw.info, meg=True, exclude='bads')  # only 214 instead of 128\n",
    "meg_chs = [c for c in raw.info['chs'] if c['ch_name'].startswith('MEG')]  # or based on type: [c for c in raw.info['chs'] if 'MEG' in getattr(c['kind'], '_name')]\n",
    "print(len(meg_chs))\n",
    "\n",
    "meg_bool = [c['ch_name'].startswith('MEG') for c in raw.info['chs']]\n",
    "megdat = dat[meg_bool, :]\n",
    "print(megdat.shape)"
   ]
  },
  {
   "cell_type": "code",
   "execution_count": null,
   "metadata": {},
   "outputs": [],
   "source": [
    "stim_bool = [c['ch_name'].startswith('STIM') for c in raw.info['chs']]\n",
    "stimdat = dat[stim_bool, :]"
   ]
  },
  {
   "cell_type": "code",
   "execution_count": null,
   "metadata": {},
   "outputs": [],
   "source": [
    "stimdat"
   ]
  },
  {
   "cell_type": "code",
   "execution_count": null,
   "metadata": {},
   "outputs": [],
   "source": [
    "i = -10\n",
    "\n",
    "plt.plot(dat[i, :])\n",
    "plt.title(chnames[i])\n",
    "\n",
    "plt.show()"
   ]
  },
  {
   "cell_type": "code",
   "execution_count": null,
   "metadata": {},
   "outputs": [],
   "source": [
    "for i in np.arange(10):\n",
    "    plt.plot(dat[meg_chs, :][i])\n",
    "\n",
    "plt.show()"
   ]
  },
  {
   "cell_type": "code",
   "execution_count": null,
   "metadata": {},
   "outputs": [],
   "source": [
    "raw.plot_sensors()"
   ]
  },
  {
   "cell_type": "markdown",
   "metadata": {},
   "source": [
    "Preprocessing trial\n",
    "\n",
    "- source: https://mne.tools/dev/auto_examples/datasets/opm_data.html"
   ]
  },
  {
   "cell_type": "code",
   "execution_count": null,
   "metadata": {},
   "outputs": [],
   "source": [
    "raw.load_data()\n",
    "raw.filter(None, 90, h_trans_bandwidth=10,)  # lfreq and hfreq at beginning\n",
    "# raw.notch_filter(50, notch_widths=1)"
   ]
  },
  {
   "cell_type": "code",
   "execution_count": null,
   "metadata": {},
   "outputs": [],
   "source": [
    "# pick random first 6 MEG channels\n",
    "n_picks = 30\n",
    "megpicks = np.where([c['ch_name'].startswith('MEG') and c['logno'] < n_picks for c in raw.info['chs']])[0]\n",
    "# imaginary events every 10 seconds\n",
    "n_events = 25\n",
    "events = np.zeros((n_events, 3))\n",
    "events[:, 0] = raw.info['sfreq'] * np.arange(n_events)\n",
    "events[:, 2] = np.ones((n_events))\n",
    "events = events.astype(int)\n"
   ]
  },
  {
   "cell_type": "code",
   "execution_count": null,
   "metadata": {},
   "outputs": [],
   "source": [
    "epochs = mne.Epochs(raw, events=events, tmin=-2, tmax=5, picks=megpicks, preload=True)"
   ]
  },
  {
   "cell_type": "code",
   "execution_count": null,
   "metadata": {},
   "outputs": [],
   "source": [
    "evoked = epochs.average()\n",
    "evoked.plot()"
   ]
  },
  {
   "cell_type": "markdown",
   "metadata": {},
   "source": [
    "## Read Marker"
   ]
  },
  {
   "cell_type": "code",
   "execution_count": null,
   "metadata": {},
   "outputs": [],
   "source": [
    "# ascii\n",
    "with open(marker, 'rt', encoding='utf-8', errors='ignore') as f:  # rt -> read text; \n",
    "    print(marker)\n",
    "    mrk = f.read()\n",
    "    "
   ]
  },
  {
   "cell_type": "code",
   "execution_count": null,
   "metadata": {},
   "outputs": [],
   "source": [
    "mrk = mne.io.kit.read_mrk(marker,)\n",
    "print(f'marker shape: {mrk.shape}')"
   ]
  },
  {
   "cell_type": "code",
   "execution_count": null,
   "metadata": {},
   "outputs": [],
   "source": [
    "mrk"
   ]
  }
 ],
 "metadata": {
  "kernelspec": {
   "display_name": "lid_opm",
   "language": "python",
   "name": "python3"
  },
  "language_info": {
   "codemirror_mode": {
    "name": "ipython",
    "version": 3
   },
   "file_extension": ".py",
   "mimetype": "text/x-python",
   "name": "python",
   "nbconvert_exporter": "python",
   "pygments_lexer": "ipython3",
   "version": "3.12.7"
  }
 },
 "nbformat": 4,
 "nbformat_minor": 2
}
